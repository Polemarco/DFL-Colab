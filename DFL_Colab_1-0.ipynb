{
 "cells": [
  {
   "cell_type": "markdown",
   "metadata": {
    "colab_type": "text",
    "id": "0cKdTCuv4tXh"
   },
   "source": [
    "# Welcome to DFL-Colab!\n",
    "\n",
    "This is an adapted version of the DFL for Google Colab.\n",
    "Works only with DFL 1.0\n",
    "\n",
    "# Overview\n",
    "*   Extractor works in full functionality.\n",
    "*   Training can work without preview.\n",
    "*   Converter works in full functionality.\n",
    "*   You can import/export workspace with your Google Drive.\n",
    "*   Import/export and another manipulations with workspace you can do in \"Manage workspace\" block\n",
    "*   Google Colab machine active for 12 hours. DFL-Colab makes a backup of your workspace in training mode, after 11 hours from the start of the session.\n",
    "*   Google does not like long-term heavy calculations. Therefore, for training more than two sessions in a row, use two Google accounts. It is recommended to split your training over 2 accounts, but you can use one Google Drive account to store your workspace.\n",
    "\n"
   ]
  },
  {
   "cell_type": "markdown",
   "metadata": {
    "colab_type": "text",
    "id": "BDg_jiQ9adQe"
   },
   "source": [
    "# Check GPU\n",
    "\n",
    "*   Google Colab can provide you with one of Tesla graphics cards: K80, T4, P4 or P100\n",
    "*   Here you can check the model of GPU before using DeepFaceLab\n",
    "\n"
   ]
  },
  {
   "cell_type": "code",
   "execution_count": null,
   "metadata": {
    "colab": {},
    "colab_type": "code",
    "id": "WJe71S6gbzt3"
   },
   "outputs": [],
   "source": [
    "!nvidia-smi"
   ]
  },
  {
   "cell_type": "markdown",
   "metadata": {
    "colab_type": "text",
    "id": "JuVn21kt40Gw"
   },
   "source": [
    "# Clone Github repository and install requirements\n",
    "\n",
    "* Clone Github repository or pull updates\n",
    "* Requirements install is automatically"
   ]
  },
  {
   "cell_type": "code",
   "execution_count": null,
   "metadata": {
    "cellView": "form",
    "colab": {},
    "colab_type": "code",
    "id": "JG-f2WqT4fLK"
   },
   "outputs": [],
   "source": [
    "#@title Clone or pull DeepFaceLab from Github\n",
    "\n",
    "Mode = \"clone\" #@param [\"clone\", \"pull\"]\n",
    "\n",
    "from pathlib import Path\n",
    "if (Mode == \"clone\"):\n",
    "  !git clone https://github.com/iperov/DeepFaceLab.git --branch DFL-1.0\n",
    "else:\n",
    "  %cd /content/DeepFaceLab\n",
    "  !git pull\n",
    "\n",
    "!pip uninstall -y tensorflow\n",
    "!pip install -r /content/DeepFaceLab/requirements-colab.txt\n",
    "!pip install --upgrade scikit-image\n",
    "!apt-get install cuda-10-0\n",
    "\n",
    "if not Path(\"/content/pretrain\").exists():\n",
    "  !wget -q --no-check-certificate -r 'https://github.com/chervonij/DFL-Colab/releases/download/pretrain-CelebA/pretrain_CelebA.zip' -O pretrain_CelebA.zip\n",
    "  !mkdir /content/pretrain\n",
    "  !unzip -q /content/pretrain_CelebA.zip -d /content/pretrain/\n",
    "  !rm /content/pretrain_CelebA.zip\n",
    "\n",
    "print(\"Done!\")"
   ]
  },
  {
   "cell_type": "markdown",
   "metadata": {
    "colab_type": "text",
    "id": "hqwOlJG4MdLC"
   },
   "source": [
    "#Manage workspace\n",
    "\n",
    "\n",
    "\n",
    "*   You can import/export workspace or individual data, like model files with Google Drive\n",
    "*   Also, you can use HFS (HTTP Fileserver) for directly import/export you workspace from your computer\n",
    "*   You can clear all workspace or delete part of it\n",
    "\n"
   ]
  },
  {
   "cell_type": "code",
   "execution_count": null,
   "metadata": {
    "cellView": "form",
    "colab": {},
    "colab_type": "code",
    "id": "z4w_sUzgOQmL"
   },
   "outputs": [],
   "source": [
    "#@title Import from Drive\n",
    "\n",
    "Mode = \"workspace\" #@param [\"workspace\", \"data_src\", \"data_dst\", \"data_src aligned\", \"data_dst aligned\", \"models\"]\n",
    "Archive_name = \"workspace.zip\" #@param {type:\"string\"}\n",
    "\n",
    "#Mount Google Drive as folder\n",
    "from google.colab import drive\n",
    "drive.mount('/content/drive', force_remount=True)\n",
    "\n",
    "def zip_and_copy(path, mode):\n",
    "  unzip_cmd=\" -q \"+Archive_name\n",
    "  \n",
    "  %cd $path\n",
    "  copy_cmd = \"/content/drive/MyDrive/\"+Archive_name+\" \"+path\n",
    "  !cp $copy_cmd\n",
    "  !unzip $unzip_cmd    \n",
    "  !rm $Archive_name\n",
    "\n",
    "if Mode == \"workspace\":\n",
    "  zip_and_copy(\"/content\", \"workspace\")\n",
    "elif Mode == \"data_src\":\n",
    "  zip_and_copy(\"/content/workspace\", \"data_src\")\n",
    "elif Mode == \"data_dst\":\n",
    "  zip_and_copy(\"/content/workspace\", \"data_dst\")\n",
    "elif Mode == \"data_src aligned\":\n",
    "  zip_and_copy(\"/content/workspace/data_src\", \"aligned\")\n",
    "elif Mode == \"data_dst aligned\":\n",
    "  zip_and_copy(\"/content/workspace/data_dst\", \"aligned\")\n",
    "elif Mode == \"models\":\n",
    "  zip_and_copy(\"/content/workspace\", \"model\")\n",
    "  \n",
    "print(\"Done!\")\n",
    "\n"
   ]
  },
  {
   "cell_type": "code",
   "execution_count": null,
   "metadata": {
    "cellView": "form",
    "colab": {},
    "colab_type": "code",
    "id": "0Y3WfuwoNXqC"
   },
   "outputs": [],
   "source": [
    "#@title Export to Drive { form-width: \"30%\" }\n",
    "Mode = \"workspace\" #@param [\"workspace\", \"data_src\", \"data_dst\", \"data_src aligned\", \"data_dst aligned\", \"merged\", \"models\", \"result video\"]\n",
    "Archive_name = \"workspace.zip\" #@param {type:\"string\"}\n",
    "\n",
    "#Mount Google Drive as folder\n",
    "from google.colab import drive\n",
    "drive.mount('/content/drive', force_remount=True)\n",
    "\n",
    "def zip_and_copy(path, mode):\n",
    "  zip_cmd=\"-r -q \"+Archive_name+\" \"\n",
    "  \n",
    "  %cd $path\n",
    "  zip_cmd+=mode\n",
    "  !zip $zip_cmd\n",
    "  copy_cmd = \" \"+Archive_name+\"  /content/drive/MyDrive/\"\n",
    "  !cp $copy_cmd\n",
    "  !rm $Archive_name\n",
    "\n",
    "if Mode == \"workspace\":\n",
    "  zip_and_copy(\"/content\", \"workspace\")\n",
    "elif Mode == \"data_src\":\n",
    "  zip_and_copy(\"/content/workspace\", \"data_src\")\n",
    "elif Mode == \"data_dst\":\n",
    "  zip_and_copy(\"/content/workspace\", \"data_dst\")\n",
    "elif Mode == \"data_src aligned\":\n",
    "  zip_and_copy(\"/content/workspace/data_src\", \"aligned\")\n",
    "elif Mode == \"data_dst aligned\":\n",
    "  zip_and_copy(\"/content/workspace/data_dst\", \"aligned\")\n",
    "elif Mode == \"merged\":\n",
    "  zip_and_copy(\"/content/workspace/data_dst\", \"merged\")\n",
    "elif Mode == \"models\":\n",
    "  zip_and_copy(\"/content/workspace\", \"model\")\n",
    "elif Mode == \"result video\":\n",
    "  !cp /content/workspace/result.mp4 /content/drive/MyDrive/\n",
    "  \n",
    "print(\"Done!\")\n"
   ]
  },
  {
   "cell_type": "code",
   "execution_count": null,
   "metadata": {
    "colab": {},
    "colab_type": "code",
    "id": "0hIvJtxwTGcb"
   },
   "outputs": [],
   "source": [
    "#@title Import from URL{ form-width: \"30%\", display-mode: \"form\" }\n",
    "URL = \"http://\" #@param {type:\"string\"}\n",
    "Mode = \"unzip to content\" #@param [\"unzip to content\", \"unzip to content/workspace\", \"unzip to content/workspace/data_src\", \"unzip to content/workspace/data_src/aligned\", \"unzip to content/workspace/data_dst\", \"unzip to content/workspace/data_dst/aligned\", \"unzip to content/workspace/model\", \"download to content/workspace\"]\n",
    "\n",
    "import urllib\n",
    "from pathlib import Path\n",
    "\n",
    "def unzip(zip_path, dest_path):\n",
    "\n",
    "    \n",
    "  unzip_cmd = \" unzip -q \" + zip_path + \" -d \"+dest_path\n",
    "  !$unzip_cmd  \n",
    "  rm_cmd = \"rm \"+dest_path + url_path.name\n",
    "  !$rm_cmd\n",
    "  print(\"Unziped!\")\n",
    "  \n",
    "\n",
    "if Mode == \"unzip to content\":\n",
    "  dest_path = \"/content/\"\n",
    "elif Mode == \"unzip to content/workspace\":\n",
    "  dest_path = \"/content/workspace/\"\n",
    "elif Mode == \"unzip to content/workspace/data_src\":\n",
    "  dest_path = \"/content/workspace/data_src/\"\n",
    "elif Mode == \"unzip to content/workspace/data_src/aligned\":\n",
    "  dest_path = \"/content/workspace/data_src/aligned/\"\n",
    "elif Mode == \"unzip to content/workspace/data_dst\":\n",
    "  dest_path = \"/content/workspace/data_dst/\"\n",
    "elif Mode == \"unzip to content/workspace/data_dst/aligned\":\n",
    "  dest_path = \"/content/workspace/data_dst/aligned/\"\n",
    "elif Mode == \"unzip to content/workspace/model\":\n",
    "  dest_path = \"/content/workspace/model/\"\n",
    "elif Mode == \"download to content/workspace\":\n",
    "  dest_path = \"/content/workspace/\"\n",
    "\n",
    "if not Path(\"/content/workspace\").exists():\n",
    "  cmd = \"mkdir /content/workspace; mkdir /content/workspace/data_src; mkdir /content/workspace/data_src/aligned; mkdir /content/workspace/data_dst; mkdir /content/workspace/data_dst/aligned; mkdir /content/workspace/model\"\n",
    "  !$cmd\n",
    "\n",
    "url_path = Path(URL)\n",
    "urllib.request.urlretrieve ( URL, dest_path + url_path.name )\n",
    "\n",
    "if (url_path.suffix == \".zip\") and (Mode!=\"download to content/workspace\"):\n",
    "  unzip(dest_path + url_path.name, dest_path)\n",
    "\n",
    "  \n",
    "print(\"Done!\")"
   ]
  },
  {
   "cell_type": "code",
   "execution_count": null,
   "metadata": {
    "cellView": "form",
    "colab": {},
    "colab_type": "code",
    "id": "7V1sc7rxNKLO"
   },
   "outputs": [],
   "source": [
    "#@title Export to URL\n",
    "URL = \"http://\" #@param {type:\"string\"}\n",
    "Mode = \"upload workspace\" #@param [\"upload workspace\", \"upload data_src\", \"upload data_dst\", \"upload data_src aligned\", \"upload data_dst aligned\", \"upload merged\", \"upload model\", \"upload result video\"]\n",
    "\n",
    "cmd_zip = \"zip -r -q \"\n",
    "\n",
    "def run_cmd(zip_path, curl_url):\n",
    "  cmd_zip = \"zip -r -q \"+zip_path\n",
    "  cmd_curl = \"curl --silent -F \"+curl_url+\" -D out.txt > /dev/null\"\n",
    "  !$cmd_zip\n",
    "  !$cmd_curl\n",
    "\n",
    "\n",
    "if Mode == \"upload workspace\":\n",
    "  %cd \"/content\"\n",
    "  run_cmd(\"workspace.zip workspace/\",\"'data=@/content/workspace.zip' \"+URL)\n",
    "elif Mode == \"upload data_src\":\n",
    "  %cd \"/content/workspace\"\n",
    "  run_cmd(\"data_src.zip data_src/\", \"'data=@/content/workspace/data_src.zip' \"+URL)\n",
    "elif Mode == \"upload data_dst\":\n",
    "  %cd \"/content/workspace\"\n",
    "  run_cmd(\"data_dst.zip data_dst/\", \"'data=@/content/workspace/data_dst.zip' \"+URL)\n",
    "elif Mode == \"upload data_src aligned\":\n",
    "  %cd \"/content/workspace\"\n",
    "  run_cmd(\"data_src_aligned.zip data_src/aligned\", \"'data=@/content/workspace/data_src_aligned.zip' \"+URL )\n",
    "elif Mode == \"upload data_dst aligned\":\n",
    "  %cd \"/content/workspace\"\n",
    "  run_cmd(\"data_dst_aligned.zip data_dst/aligned/\", \"'data=@/content/workspace/data_dst_aligned.zip' \"+URL)\n",
    "elif Mode == \"upload merged\":\n",
    "  %cd \"/content/workspace/data_dst\"\n",
    "  run_cmd(\"merged.zip merged/\",\"'data=@/content/workspace/data_dst/merged.zip' \"+URL )\n",
    "elif Mode == \"upload model\":\n",
    "  %cd \"/content/workspace\"\n",
    "  run_cmd(\"model.zip model/\", \"'data=@/content/workspace/model.zip' \"+URL)\n",
    "elif Mode == \"upload result video\":\n",
    "  %cd \"/content/workspace\"\n",
    "  run_cmd(\"result.zip result.mp4\", \"'data=@/content/workspace/result.zip' \"+URL)\n",
    "  \n",
    "  \n",
    "!rm *.zip\n",
    "\n",
    "%cd \"/content\"\n",
    "print(\"Done!\")"
   ]
  },
  {
   "cell_type": "code",
   "execution_count": null,
   "metadata": {
    "cellView": "form",
    "colab": {},
    "colab_type": "code",
    "id": "Ta6ue_UGMkki"
   },
   "outputs": [],
   "source": [
    "#@title Delete and recreate\n",
    "Mode = \"Delete and recreate workspace\" #@param [\"Delete and recreate workspace\", \"Delete models\", \"Delete data_src\", \"Delete data_src aligned\", \"Delete data_src video\", \"Delete data_dst\", \"Delete data_dst aligned\", \"Delete merged frames\"]\n",
    "\n",
    "%cd \"/content\" \n",
    "\n",
    "if Mode == \"Delete and recreate workspace\":\n",
    "  cmd = \"rm -r /content/workspace ; mkdir /content/workspace; mkdir /content/workspace/data_src; mkdir /content/workspace/data_src/aligned; mkdir /content/workspace/data_dst; mkdir /content/workspace/data_dst/aligned; mkdir /content/workspace/model\"  \n",
    "elif Mode == \"Delete models\":\n",
    "  cmd = \"rm -r /content/workspace/model/*\"\n",
    "elif Mode == \"Delete data_src\":\n",
    "  cmd = \"rm /content/workspace/data_src/*.png || rm -r /content/workspace/data_src/*.jpg\"\n",
    "elif Mode == \"Delete data_src aligned\":\n",
    "  cmd = \"rm -r /content/workspace/data_src/aligned/*\"\n",
    "elif Mode == \"Delete data_src video\":\n",
    "  cmd = \"rm -r /content/workspace/data_src.*\"\n",
    "elif Mode == \"Delete data_dst\":\n",
    "  cmd = \"rm /content/workspace/data_dst/*.png || rm /content/workspace/data_dst/*.jpg\"\n",
    "elif Mode == \"Delete data_dst aligned\":\n",
    "  cmd = \"rm -r /content/workspace/data_dst/aligned/*\"\n",
    "elif Mode == \"Delete merged frames\":\n",
    "  cmd = \"rm -r /content/workspace/data_dst/merged\"\n",
    "  \n",
    "!$cmd\n",
    "print(\"Done!\")"
   ]
  },
  {
   "cell_type": "markdown",
   "metadata": {
    "colab_type": "text",
    "id": "tUNVcbujhm00"
   },
   "source": [
    "# Extract, sorting and faceset tools\n",
    "* Extract frames for SRC or DST video.\n",
    "* Denoise SRC or DST video. \"Factor\" param set intesity of denoising\n",
    "* Detect and align faces with one of detectors. (S3FD - recommended). If you need, you can get frames with debug landmarks.\n",
    "* Options \"S3FD (Mark only)\" and \"S3FD (Extract unaligned)\" are needed for the AVATAR model. Before using, read the guide in the DeepFaceLab repository.\n",
    "* Export workspace to Google Drive after extract and sort it manually (In \"Manage Workspace\" block)\n",
    "* You can enhance your facesets with DFL FacesetEnhancer. Enhanced images will replace yours in \"aligned\" directory.\n"
   ]
  },
  {
   "cell_type": "code",
   "execution_count": null,
   "metadata": {
    "cellView": "form",
    "colab": {},
    "colab_type": "code",
    "id": "qwJEbz5Nhot0"
   },
   "outputs": [],
   "source": [
    "#@title Extract frames\n",
    "Video = \"data_src\" #@param [\"data_src\", \"data_dst\"]\n",
    "\n",
    "%cd \"/content\"\n",
    "\n",
    "cmd = \"DeepFaceLab/main.py videoed extract-video\"\n",
    "\n",
    "if Video == \"data_dst\":\n",
    "  cmd+= \" --input-file workspace/data_dst.* --output-dir workspace/data_dst/\"\n",
    "else:\n",
    "  cmd+= \" --input-file workspace/data_src.* --output-dir workspace/data_src/\"\n",
    "  \n",
    "!python $cmd"
   ]
  },
  {
   "cell_type": "code",
   "execution_count": null,
   "metadata": {
    "cellView": "form",
    "colab": {},
    "colab_type": "code",
    "id": "bFmPo0s2lTil"
   },
   "outputs": [],
   "source": [
    "#@title Denoise frames\n",
    "Data = \"data_src\" #@param [\"data_src\", \"data_dst\"]\n",
    "Factor = 1 #@param {type:\"slider\", min:1, max:20, step:1}\n",
    "\n",
    "cmd = \"DeepFaceLab/main.py videoed denoise-image-sequence --input-dir workspace/\"+Data+\" --factor \"+str(Factor)\n",
    "\n",
    "%cd \"/content\"\n",
    "!python $cmd"
   ]
  },
  {
   "cell_type": "code",
   "execution_count": null,
   "metadata": {
    "cellView": "form",
    "colab": {},
    "colab_type": "code",
    "id": "nmq0Sj2bmq7d"
   },
   "outputs": [],
   "source": [
    "#@title Detect faces\n",
    "Data = \"data_src\" #@param [\"data_src\", \"data_dst\"]\n",
    "Detector = \"S3FD\" #@param [\"S3FD\", \"S3FD (Mark only)\", \"S3FD (Extract unaligned)\", \"MT\"]\n",
    "Debug = False #@param {type:\"boolean\"}\n",
    "\n",
    "detect_type = \"s3fd\"\n",
    "facetype = None\n",
    "\n",
    "if Detector == \"S3FD\":\n",
    "  detect_type = \"s3fd\"\n",
    "elif Detector == \"S3FD (Mark only)\":\n",
    "  detect_type = \"s3fd\"\n",
    "  facetype = \"mark_only\"\n",
    "elif Detector == \"S3FD (Extract unaligned)\":\n",
    "  detect_type = \"s3fd\"\n",
    "  facetype = \"full_face_no_align\"\n",
    "elif Detector == \"MT\":\n",
    "  detect_type = \"mt\"\n",
    "\n",
    "folder = \"workspace/\"+Data\n",
    "folder_align = folder+\"/aligned\"\n",
    "debug_folder = folder_align+\"/debug\"\n",
    "\n",
    "cmd = \"DeepFaceLab/main.py extract --input-dir \"+folder+\" --output-dir \"+folder_align\n",
    "\n",
    "if Debug:\n",
    "  cmd+= \" --debug-dir \"+debug_folder\n",
    "\n",
    "cmd+=\" --detector \"+detect_type\n",
    "  \n",
    "if facetype:\n",
    "  cmd+=\" --face-type \"+facetype\n",
    "  \n",
    "%cd \"/content\"\n",
    "!python $cmd"
   ]
  },
  {
   "cell_type": "code",
   "execution_count": null,
   "metadata": {
    "cellView": "form",
    "colab": {},
    "colab_type": "code",
    "id": "TRNxUFE6p6Eu"
   },
   "outputs": [],
   "source": [
    "#@title Sort aligned\n",
    "Data = \"data_src\" #@param [\"data_src\", \"data_dst\"]\n",
    "sort_type = \"absdiff\" #@param [\"absdiff\",\"hist\", \"hist-dissim\", \"face-yaw\", \"face-pitch\", \"vggface\", \"blur\", \"final\", \"final-no-blur\"]\n",
    "\n",
    "cmd = \"DeepFaceLab/main.py sort --input-dir workspace/\"+Data+\"/aligned --by \"+sort_type\n",
    "\n",
    "%cd \"/content\"\n",
    "!python $cmd"
   ]
  },
  {
   "cell_type": "code",
   "execution_count": null,
   "metadata": {
    "cellView": "form",
    "colab": {},
    "colab_type": "code",
    "id": "O5MbnVDyXkP7"
   },
   "outputs": [],
   "source": [
    "#@title Faceset Enhancer\n",
    "Data = \"data_src\" #@param [\"data_src\", \"data_dst\"]\n",
    "\n",
    "data_path = \"/content/workspace/\"+Data+\"/aligned\"\n",
    "\n",
    "cmd = \"/content/DeepFaceLab/main.py facesettool enhance --input-dir \"+data_path\n",
    "!python $cmd"
   ]
  },
  {
   "cell_type": "markdown",
   "metadata": {
    "colab_type": "text",
    "id": "WTuyUxgdLA13"
   },
   "source": [
    "# Train model\n",
    "\n",
    "* Choose your model type, but SAEHD is recommend for everyone\n",
    "* Set model options on output field\n",
    "* You can see preview manually, if go to model folder in filemanager and double click on preview.jpg file\n",
    "* Your workspace will be archived and upload to mounted Drive after 11 hours from start session\n",
    "* If you select \"Backup_every_hour\" option, your workspace will be backed up every hour.\n",
    "* Also, you can export your workspace manually in \"Manage workspace\" block"
   ]
  },
  {
   "cell_type": "code",
   "execution_count": null,
   "metadata": {
    "cellView": "form",
    "colab": {},
    "colab_type": "code",
    "id": "Z0Kya-PJLDhv"
   },
   "outputs": [],
   "source": [
    "#@title Training\n",
    "Model = \"SAEHD\" #@param [\"SAEHD\", \"SAE\", \"Quick96\", \"H128\", \"LIAEF128\", \"DF\", \"AVATAR\", \"DEV_FANSEG\"]\n",
    "Backup_every_hour = True #@param {type:\"boolean\"}\n",
    "\n",
    "%cd \"/content\"\n",
    "\n",
    "#Mount Google Drive as folder\n",
    "from google.colab import drive\n",
    "drive.mount('/content/drive')\n",
    "\n",
    "import psutil, os, time\n",
    "\n",
    "p = psutil.Process(os.getpid())\n",
    "uptime = time.time() - p.create_time()\n",
    "\n",
    "if (Backup_every_hour):\n",
    "  if not os.path.exists('workspace.zip'):\n",
    "    print(\"Creating workspace archive ...\")\n",
    "    !zip -r -q workspace.zip workspace\n",
    "    print(\"Archive created!\")\n",
    "  else:\n",
    "    print(\"Archive exist!\")\n",
    "\n",
    "if (Backup_every_hour):\n",
    "  print(\"Time to end session: \"+str(round((43200-uptime)/3600))+\" hours\")\n",
    "  backup_time = str(3600)\n",
    "  backup_cmd = \" --execute-program -\"+backup_time+\" \\\"import os; os.system('zip -r -q workspace.zip workspace/model'); os.system('cp /content/workspace.zip /content/drive/MyDrive/'); print('Backed up!') \\\"\" \n",
    "elif (round(39600-uptime) > 0):\n",
    "  print(\"Time to backup: \"+str(round((39600-uptime)/3600))+\" hours\")\n",
    "  backup_time = str(round(39600-uptime))\n",
    "  backup_cmd = \" --execute-program \"+backup_time+\" \\\"import os; os.system('zip -r -q workspace.zip workspace'); os.system('cp /content/workspace.zip /content/drive/MyDrive/'); print('Backed up!') \\\"\" \n",
    "else:\n",
    "  print(\"Session expires in less than an hour.\")\n",
    "  backup_cmd = \"\"\n",
    "    \n",
    "cmd = \"DeepFaceLab/main.py train --training-data-src-dir workspace/data_src/aligned --training-data-dst-dir workspace/data_dst/aligned --pretraining-data-dir pretrain --model-dir workspace/model --model \"+Model\n",
    "  \n",
    "if (backup_cmd != \"\"):\n",
    "  train_cmd = (cmd+backup_cmd)\n",
    "else:\n",
    "  train_cmd = (cmd)\n",
    "\n",
    "!python $train_cmd"
   ]
  },
  {
   "cell_type": "markdown",
   "metadata": {
    "colab_type": "text",
    "id": "avAcSL_uvtq_"
   },
   "source": [
    "# Convert frames"
   ]
  },
  {
   "cell_type": "code",
   "execution_count": null,
   "metadata": {
    "cellView": "form",
    "colab": {},
    "colab_type": "code",
    "id": "A3Y8K22Sv9Gn"
   },
   "outputs": [],
   "source": [
    "#@title Convert\n",
    "Model = \"SAEHD\" #@param [\"SAEHD\", \"SAE\", \"Quick96\", \"H128\", \"LIAEF128\", \"DF\", \"AVATAR\" ]\n",
    "\n",
    "if Model == \"AVATAR\":  \n",
    "  cmd = \"DeepFaceLab/main.py convert --input-dir workspace/data_dst/aligned --output-dir workspace/data_dst/merged --model-dir workspace/model --model \"+Model\n",
    "else:\n",
    "  cmd = \"DeepFaceLab/main.py convert --input-dir workspace/data_dst --output-dir workspace/data_dst/merged --aligned-dir workspace/data_dst/aligned --model-dir workspace/model --model \"+Model\n",
    "\n",
    "%cd \"/content\"\n",
    "!python $cmd"
   ]
  },
  {
   "cell_type": "code",
   "execution_count": null,
   "metadata": {
    "cellView": "form",
    "colab": {},
    "colab_type": "code",
    "id": "JNeGfiZpxlnz"
   },
   "outputs": [],
   "source": [
    "#@title Get result video and copy to Drive \n",
    "\n",
    "!python DeepFaceLab/main.py videoed video-from-sequence --input-dir workspace/data_dst/merged --output-file workspace/result.mp4 --reference-file workspace/data_dst.mp4\n",
    "!cp /content/workspace/result.mp4 /content/drive/MyDrive/"
   ]
  }
 ],
 "metadata": {
  "accelerator": "GPU",
  "colab": {
   "collapsed_sections": [
    "BDg_jiQ9adQe",
    "JuVn21kt40Gw",
    "hqwOlJG4MdLC",
    "tUNVcbujhm00",
    "WTuyUxgdLA13",
    "avAcSL_uvtq_"
   ],
   "name": "DFL_Colab_1-0.ipynb",
   "provenance": [],
   "toc_visible": true
  },
  "kernelspec": {
   "display_name": "Python 3 (ipykernel)",
   "language": "python",
   "name": "python3"
  },
  "language_info": {
   "codemirror_mode": {
    "name": "ipython",
    "version": 3
   },
   "file_extension": ".py",
   "mimetype": "text/x-python",
   "name": "python",
   "nbconvert_exporter": "python",
   "pygments_lexer": "ipython3",
   "version": "3.7.9"
  }
 },
 "nbformat": 4,
 "nbformat_minor": 1
}
